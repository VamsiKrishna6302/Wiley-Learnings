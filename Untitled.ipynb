{
 "cells": [
  {
   "cell_type": "code",
   "execution_count": 4,
   "id": "89695dd4",
   "metadata": {},
   "outputs": [
    {
     "name": "stdout",
     "output_type": "stream",
     "text": [
      "0\n",
      "0\n"
     ]
    }
   ],
   "source": [
    "#Fib\n",
    "n=int(input())\n",
    "n1=0\n",
    "print(n1)\n",
    "n2=1\n",
    "for i in range(n-1):\n",
    "    temp=n1\n",
    "    n1=n2\n",
    "    print(n1)\n",
    "    n2=temp+n2"
   ]
  },
  {
   "cell_type": "code",
   "execution_count": 5,
   "id": "cec06af5",
   "metadata": {},
   "outputs": [
    {
     "name": "stdout",
     "output_type": "stream",
     "text": [
      "5\n",
      "120\n"
     ]
    }
   ],
   "source": [
    "#Factorial\n",
    "n=int(input())\n",
    "s=1\n",
    "for i in range(n,1,-1):\n",
    "    s=s*i\n",
    "print(s)\n",
    "    "
   ]
  },
  {
   "cell_type": "code",
   "execution_count": 8,
   "id": "3ce2a384",
   "metadata": {},
   "outputs": [
    {
     "name": "stdout",
     "output_type": "stream",
     "text": [
      "7\n",
      "Prime\n"
     ]
    }
   ],
   "source": [
    "#Prime\n",
    "n=int(input())\n",
    "f=True\n",
    "for i in range(2,n//2):\n",
    "    if(n%i==0):\n",
    "        f=False\n",
    "        break\n",
    "if(f):\n",
    "    print(\"Prime\")\n",
    "    \n",
    "    "
   ]
  },
  {
   "cell_type": "code",
   "execution_count": 9,
   "id": "93d201e1",
   "metadata": {},
   "outputs": [
    {
     "name": "stdout",
     "output_type": "stream",
     "text": [
      "2\n",
      "16\n",
      "2\n",
      "3\n",
      "4\n",
      "5\n",
      "7\n",
      "11\n",
      "13\n"
     ]
    }
   ],
   "source": [
    "#Prime Range\n",
    "n=int(input())\n",
    "n2=int(input())\n",
    "for i in range(n,n2):\n",
    "    t=True\n",
    "    for j in range(2,i//2):\n",
    "        if(i%j==0):\n",
    "            t=False\n",
    "            break\n",
    "    if(t):\n",
    "        print(i)"
   ]
  },
  {
   "cell_type": "code",
   "execution_count": 15,
   "id": "bd60e44d",
   "metadata": {},
   "outputs": [
    {
     "name": "stdout",
     "output_type": "stream",
     "text": [
      "5\n",
      "1 \n",
      "2 2 \n",
      "3 3 3 \n",
      "4 4 4 4 \n",
      "5 5 5 5 5 \n"
     ]
    }
   ],
   "source": [
    "n=int(input())\n",
    "for i in range(1,n+1):\n",
    "    for j in range(0,i):\n",
    "        print(i,end=\" \")\n",
    "    print()"
   ]
  },
  {
   "cell_type": "code",
   "execution_count": 30,
   "id": "4d3de29e",
   "metadata": {},
   "outputs": [
    {
     "name": "stdout",
     "output_type": "stream",
     "text": [
      "    * \n",
      "   * * \n",
      "  * * * \n",
      " * * * * \n",
      "* * * * * \n"
     ]
    }
   ],
   "source": [
    "for i in range(1,n+1):\n",
    "    for j in range(0,n-i):\n",
    "        print(end=\" \")\n",
    "    for k in range(0,i):\n",
    "        print(\"* \",end=\"\")\n",
    "    print()\n"
   ]
  },
  {
   "cell_type": "code",
   "execution_count": 35,
   "id": "fb7fea3f",
   "metadata": {},
   "outputs": [
    {
     "name": "stdout",
     "output_type": "stream",
     "text": [
      "    *\n",
      "   ***\n",
      "  *****\n",
      " *******\n",
      "*********\n",
      " *******\n",
      "  *****\n",
      "   ***\n",
      "    *\n"
     ]
    }
   ],
   "source": [
    "for i in range(1,n+1):\n",
    "    for j in range(1,n-i+1):\n",
    "        print(end=\" \")\n",
    "    for k in range(0,2*i-1):\n",
    "        print(\"*\",end=\"\")\n",
    "    print()\n",
    "for i in range(1,n):\n",
    "    for j in range(1,i+1):\n",
    "        print(end=\" \")\n",
    "    for k in range(1,2*(n-i)):\n",
    "        print(\"*\",end='')\n",
    "    print()"
   ]
  },
  {
   "cell_type": "code",
   "execution_count": null,
   "id": "d300ca90",
   "metadata": {},
   "outputs": [],
   "source": [
    "l=[2,6,8,1,3,5]\n",
    "for i in range(0,len(l)-1):\n",
    "    for j in range(0,len(l)-i-1):\n",
    "        if(l[j]>l[j+1]):\n",
    "            l[j],l[j+1]=l[j+1],l[j]\n",
    "l"
   ]
  },
  {
   "cell_type": "code",
   "execution_count": 1,
   "id": "4636f83a",
   "metadata": {},
   "outputs": [
    {
     "name": "stdout",
     "output_type": "stream",
     "text": [
      "[1, 2, 3, 5, 6, 8]\n"
     ]
    }
   ],
   "source": [
    "def quick_sort(l):\n",
    "    if(len(l)<=1):\n",
    "        return l\n",
    "    else:\n",
    "        p=l.pop()\n",
    "        le=[]\n",
    "        g=[]\n",
    "        for i in l:\n",
    "            if(i>p):\n",
    "                g.append(i)\n",
    "            else:\n",
    "                le.append(i)\n",
    "        return quick_sort(le)+[p]+quick_sort(g)\n",
    "print(quick_sort([2,6,8,1,3,5]))"
   ]
  },
  {
   "cell_type": "code",
   "execution_count": null,
   "id": "1a931fd0",
   "metadata": {},
   "outputs": [],
   "source": [
    "f=open(\"write.txt\",w)"
   ]
  }
 ],
 "metadata": {
  "kernelspec": {
   "display_name": "Python 3 (ipykernel)",
   "language": "python",
   "name": "python3"
  },
  "language_info": {
   "codemirror_mode": {
    "name": "ipython",
    "version": 3
   },
   "file_extension": ".py",
   "mimetype": "text/x-python",
   "name": "python",
   "nbconvert_exporter": "python",
   "pygments_lexer": "ipython3",
   "version": "3.9.7"
  }
 },
 "nbformat": 4,
 "nbformat_minor": 5
}
